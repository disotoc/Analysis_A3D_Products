{
 "cells": [
  {
   "cell_type": "code",
   "execution_count": 2,
   "metadata": {},
   "outputs": [],
   "source": [
    "import pandas as pd"
   ]
  },
  {
   "cell_type": "code",
   "execution_count": 19,
   "metadata": {},
   "outputs": [
    {
     "name": "stdout",
     "output_type": "stream",
     "text": [
      "El precio ha bajado desde último registro\n"
     ]
    }
   ],
   "source": [
    "data = pd.read_json('precios.json', lines=True)\n",
    "# La siguiente línea gracias a una función lambda evalúa si hay un precio especial en la última columna\n",
    "data['final_price'] = data.apply(lambda row: row['special_price'] if row['special_price'] > 0 else row['old_price'], axis=1)\n",
    "# Se crea una lista que guarde los dos últimos valores para evaluarlos\n",
    "last_values = data['final_price'].tail(2).values.tolist()\n",
    "if last_values[0] > last_values[1]:\n",
    "    print(\"El precio ha bajado desde último registro\")"
   ]
  }
 ],
 "metadata": {
  "kernelspec": {
   "display_name": "Python 3",
   "language": "python",
   "name": "python3"
  },
  "language_info": {
   "codemirror_mode": {
    "name": "ipython",
    "version": 3
   },
   "file_extension": ".py",
   "mimetype": "text/x-python",
   "name": "python",
   "nbconvert_exporter": "python",
   "pygments_lexer": "ipython3",
   "version": "3.10.6"
  },
  "orig_nbformat": 4
 },
 "nbformat": 4,
 "nbformat_minor": 2
}
